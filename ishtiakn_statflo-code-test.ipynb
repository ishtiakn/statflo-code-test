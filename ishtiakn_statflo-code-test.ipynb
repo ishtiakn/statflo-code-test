{
 "cells": [
  {
   "cell_type": "code",
   "execution_count": 31,
   "metadata": {},
   "outputs": [],
   "source": [
    "import pandas as pd\n",
    "import matplotlib.pyplot as plt\n",
    "from pandasql import sqldf as sql"
   ]
  },
  {
   "attachments": {},
   "cell_type": "markdown",
   "metadata": {},
   "source": [
    "To convert this notebook to an html file, execute **jupyter nbconvert --to html ishtiakn_statflo-code-test.ipynb**"
   ]
  },
  {
   "attachments": {},
   "cell_type": "markdown",
   "metadata": {},
   "source": [
    "### 1. Using Python, parse the provided csv file and load the data into a pandas DataFrame."
   ]
  },
  {
   "cell_type": "code",
   "execution_count": 32,
   "metadata": {},
   "outputs": [
    {
     "data": {
      "text/html": [
       "<div>\n",
       "<style scoped>\n",
       "    .dataframe tbody tr th:only-of-type {\n",
       "        vertical-align: middle;\n",
       "    }\n",
       "\n",
       "    .dataframe tbody tr th {\n",
       "        vertical-align: top;\n",
       "    }\n",
       "\n",
       "    .dataframe thead th {\n",
       "        text-align: right;\n",
       "    }\n",
       "</style>\n",
       "<table border=\"1\" class=\"dataframe\">\n",
       "  <thead>\n",
       "    <tr style=\"text-align: right;\">\n",
       "      <th></th>\n",
       "      <th>transaction_date</th>\n",
       "      <th>product_name</th>\n",
       "      <th>price</th>\n",
       "      <th>store_name</th>\n",
       "      <th>sales_representative_name</th>\n",
       "      <th>client_name</th>\n",
       "    </tr>\n",
       "    <tr>\n",
       "      <th>transaction_id</th>\n",
       "      <th></th>\n",
       "      <th></th>\n",
       "      <th></th>\n",
       "      <th></th>\n",
       "      <th></th>\n",
       "      <th></th>\n",
       "    </tr>\n",
       "  </thead>\n",
       "  <tbody>\n",
       "    <tr>\n",
       "      <th>t005</th>\n",
       "      <td>28-02-23</td>\n",
       "      <td>americano</td>\n",
       "      <td>4.00</td>\n",
       "      <td>Queen St</td>\n",
       "      <td>NaN</td>\n",
       "      <td>Christopher Thomas</td>\n",
       "    </tr>\n",
       "    <tr>\n",
       "      <th>t005</th>\n",
       "      <td>28-02-23</td>\n",
       "      <td>americano</td>\n",
       "      <td>4.00</td>\n",
       "      <td>Queen St</td>\n",
       "      <td>Christopher Thomas</td>\n",
       "      <td>NaN</td>\n",
       "    </tr>\n",
       "    <tr>\n",
       "      <th>t004</th>\n",
       "      <td>27-02-23</td>\n",
       "      <td>cappuccino</td>\n",
       "      <td>NaN</td>\n",
       "      <td>King St</td>\n",
       "      <td>Andrew Miller</td>\n",
       "      <td>Jennifer Brown</td>\n",
       "    </tr>\n",
       "    <tr>\n",
       "      <th>t003</th>\n",
       "      <td>26-02-23</td>\n",
       "      <td>espresso</td>\n",
       "      <td>3.50</td>\n",
       "      <td>NaN</td>\n",
       "      <td>Samantha Wilson</td>\n",
       "      <td>Michael Thompson</td>\n",
       "    </tr>\n",
       "    <tr>\n",
       "      <th>t002</th>\n",
       "      <td>25-02-23</td>\n",
       "      <td>NaN</td>\n",
       "      <td>3.75</td>\n",
       "      <td>Queen St</td>\n",
       "      <td>Sarah Davis</td>\n",
       "      <td>Robert Anderson</td>\n",
       "    </tr>\n",
       "    <tr>\n",
       "      <th>k115</th>\n",
       "      <td>24-02-23</td>\n",
       "      <td>cappuccino</td>\n",
       "      <td>4.50</td>\n",
       "      <td>King St</td>\n",
       "      <td>Lex Monroe</td>\n",
       "      <td>Joshua Farley</td>\n",
       "    </tr>\n",
       "    <tr>\n",
       "      <th>q235</th>\n",
       "      <td>23-02-23</td>\n",
       "      <td>americano</td>\n",
       "      <td>4.00</td>\n",
       "      <td>Queen St</td>\n",
       "      <td>Britany Hebert</td>\n",
       "      <td>Joshua Farley</td>\n",
       "    </tr>\n",
       "    <tr>\n",
       "      <th>q234</th>\n",
       "      <td>23-02-23</td>\n",
       "      <td>cappuccino</td>\n",
       "      <td>4.50</td>\n",
       "      <td>Queen St</td>\n",
       "      <td>Amal Jarvis</td>\n",
       "      <td>Ananya Werner</td>\n",
       "    </tr>\n",
       "    <tr>\n",
       "      <th>k113</th>\n",
       "      <td>23-02-23</td>\n",
       "      <td>cappuccino</td>\n",
       "      <td>4.50</td>\n",
       "      <td>King St</td>\n",
       "      <td>Zavier Calvert</td>\n",
       "      <td>Miranda Nash</td>\n",
       "    </tr>\n",
       "    <tr>\n",
       "      <th>q236</th>\n",
       "      <td>23-02-23</td>\n",
       "      <td>tea</td>\n",
       "      <td>3.95</td>\n",
       "      <td>Queen St</td>\n",
       "      <td>Britany Hebert</td>\n",
       "      <td>Thalia Goodwin</td>\n",
       "    </tr>\n",
       "    <tr>\n",
       "      <th>k112</th>\n",
       "      <td>22-02-23</td>\n",
       "      <td>americano</td>\n",
       "      <td>4.00</td>\n",
       "      <td>King St</td>\n",
       "      <td>Lex Monroe</td>\n",
       "      <td>Thalia Goodwin</td>\n",
       "    </tr>\n",
       "    <tr>\n",
       "      <th>k114</th>\n",
       "      <td>22-02-23</td>\n",
       "      <td>cappuccino</td>\n",
       "      <td>4.50</td>\n",
       "      <td>King St</td>\n",
       "      <td>Zavier Calvert</td>\n",
       "      <td>Thalia Goodwin</td>\n",
       "    </tr>\n",
       "    <tr>\n",
       "      <th>q233</th>\n",
       "      <td>21-02-23</td>\n",
       "      <td>tea</td>\n",
       "      <td>3.95</td>\n",
       "      <td>Queen St</td>\n",
       "      <td>Britany Hebert</td>\n",
       "      <td>Ananya Werner</td>\n",
       "    </tr>\n",
       "    <tr>\n",
       "      <th>q232</th>\n",
       "      <td>21-02-23</td>\n",
       "      <td>cappuccino</td>\n",
       "      <td>4.00</td>\n",
       "      <td>Queen St</td>\n",
       "      <td>Amal Jarvis</td>\n",
       "      <td>Thalia Goodwin</td>\n",
       "    </tr>\n",
       "    <tr>\n",
       "      <th>k111</th>\n",
       "      <td>21-02-23</td>\n",
       "      <td>americano</td>\n",
       "      <td>4.00</td>\n",
       "      <td>King St</td>\n",
       "      <td>Zavier Calvert</td>\n",
       "      <td>Joshua Farley</td>\n",
       "    </tr>\n",
       "    <tr>\n",
       "      <th>k110</th>\n",
       "      <td>20-02-23</td>\n",
       "      <td>cappuccino</td>\n",
       "      <td>4.50</td>\n",
       "      <td>King St</td>\n",
       "      <td>Lex Monroe</td>\n",
       "      <td>Miranda Nash</td>\n",
       "    </tr>\n",
       "    <tr>\n",
       "      <th>k109</th>\n",
       "      <td>20-02-23</td>\n",
       "      <td>americano</td>\n",
       "      <td>4.00</td>\n",
       "      <td>King St</td>\n",
       "      <td>Zavier Calvert</td>\n",
       "      <td>Thalia Goodwin</td>\n",
       "    </tr>\n",
       "    <tr>\n",
       "      <th>k108</th>\n",
       "      <td>19-02-23</td>\n",
       "      <td>cappuccino</td>\n",
       "      <td>4.50</td>\n",
       "      <td>King St</td>\n",
       "      <td>Zavier Calvert</td>\n",
       "      <td>Joshua Farley</td>\n",
       "    </tr>\n",
       "    <tr>\n",
       "      <th>k107</th>\n",
       "      <td>19-02-23</td>\n",
       "      <td>cappuccino</td>\n",
       "      <td>4.50</td>\n",
       "      <td>King St</td>\n",
       "      <td>Zavier Calvert</td>\n",
       "      <td>Ananya Werner</td>\n",
       "    </tr>\n",
       "    <tr>\n",
       "      <th>q231</th>\n",
       "      <td>18-02-23</td>\n",
       "      <td>tea</td>\n",
       "      <td>3.95</td>\n",
       "      <td>Queen St</td>\n",
       "      <td>Britany Hebert</td>\n",
       "      <td>Ananya Werner</td>\n",
       "    </tr>\n",
       "    <tr>\n",
       "      <th>k106</th>\n",
       "      <td>18-02-23</td>\n",
       "      <td>americano</td>\n",
       "      <td>4.00</td>\n",
       "      <td>King St</td>\n",
       "      <td>Zavier Calvert</td>\n",
       "      <td>Miranda Nash</td>\n",
       "    </tr>\n",
       "    <tr>\n",
       "      <th>q230</th>\n",
       "      <td>18-02-23</td>\n",
       "      <td>cappuccino</td>\n",
       "      <td>4.50</td>\n",
       "      <td>Queen St</td>\n",
       "      <td>Amal Jarvis</td>\n",
       "      <td>Louis Jackson</td>\n",
       "    </tr>\n",
       "    <tr>\n",
       "      <th>k105</th>\n",
       "      <td>18-02-23</td>\n",
       "      <td>cappuccino</td>\n",
       "      <td>4.50</td>\n",
       "      <td>King St</td>\n",
       "      <td>Lex Monroe</td>\n",
       "      <td>Gabriel Palmer</td>\n",
       "    </tr>\n",
       "    <tr>\n",
       "      <th>t001</th>\n",
       "      <td>NaN</td>\n",
       "      <td>latte</td>\n",
       "      <td>4.20</td>\n",
       "      <td>King St</td>\n",
       "      <td>John Smith</td>\n",
       "      <td>Emily Johnson</td>\n",
       "    </tr>\n",
       "  </tbody>\n",
       "</table>\n",
       "</div>"
      ],
      "text/plain": [
       "               transaction_date product_name  price store_name  \\\n",
       "transaction_id                                                   \n",
       "t005                   28-02-23    americano   4.00   Queen St   \n",
       "t005                   28-02-23    americano   4.00   Queen St   \n",
       "t004                   27-02-23   cappuccino    NaN    King St   \n",
       "t003                   26-02-23     espresso   3.50        NaN   \n",
       "t002                   25-02-23          NaN   3.75   Queen St   \n",
       "k115                   24-02-23   cappuccino   4.50    King St   \n",
       "q235                   23-02-23    americano   4.00   Queen St   \n",
       "q234                   23-02-23   cappuccino   4.50   Queen St   \n",
       "k113                   23-02-23   cappuccino   4.50    King St   \n",
       "q236                   23-02-23          tea   3.95   Queen St   \n",
       "k112                   22-02-23    americano   4.00    King St   \n",
       "k114                   22-02-23   cappuccino   4.50    King St   \n",
       "q233                   21-02-23          tea   3.95   Queen St   \n",
       "q232                   21-02-23   cappuccino   4.00   Queen St   \n",
       "k111                   21-02-23    americano   4.00    King St   \n",
       "k110                   20-02-23   cappuccino   4.50    King St   \n",
       "k109                   20-02-23    americano   4.00    King St   \n",
       "k108                   19-02-23   cappuccino   4.50    King St   \n",
       "k107                   19-02-23   cappuccino   4.50    King St   \n",
       "q231                   18-02-23          tea   3.95   Queen St   \n",
       "k106                   18-02-23    americano   4.00    King St   \n",
       "q230                   18-02-23   cappuccino   4.50   Queen St   \n",
       "k105                   18-02-23   cappuccino   4.50    King St   \n",
       "t001                        NaN        latte   4.20    King St   \n",
       "\n",
       "               sales_representative_name         client_name  \n",
       "transaction_id                                                \n",
       "t005                                 NaN  Christopher Thomas  \n",
       "t005                  Christopher Thomas                 NaN  \n",
       "t004                       Andrew Miller      Jennifer Brown  \n",
       "t003                     Samantha Wilson    Michael Thompson  \n",
       "t002                         Sarah Davis     Robert Anderson  \n",
       "k115                          Lex Monroe       Joshua Farley  \n",
       "q235                      Britany Hebert       Joshua Farley  \n",
       "q234                         Amal Jarvis       Ananya Werner  \n",
       "k113                      Zavier Calvert        Miranda Nash  \n",
       "q236                      Britany Hebert      Thalia Goodwin  \n",
       "k112                          Lex Monroe      Thalia Goodwin  \n",
       "k114                      Zavier Calvert      Thalia Goodwin  \n",
       "q233                      Britany Hebert       Ananya Werner  \n",
       "q232                         Amal Jarvis      Thalia Goodwin  \n",
       "k111                      Zavier Calvert       Joshua Farley  \n",
       "k110                          Lex Monroe        Miranda Nash  \n",
       "k109                      Zavier Calvert      Thalia Goodwin  \n",
       "k108                      Zavier Calvert       Joshua Farley  \n",
       "k107                      Zavier Calvert       Ananya Werner  \n",
       "q231                      Britany Hebert       Ananya Werner  \n",
       "k106                      Zavier Calvert        Miranda Nash  \n",
       "q230                         Amal Jarvis       Louis Jackson  \n",
       "k105                          Lex Monroe      Gabriel Palmer  \n",
       "t001                          John Smith       Emily Johnson  "
      ]
     },
     "execution_count": 32,
     "metadata": {},
     "output_type": "execute_result"
    }
   ],
   "source": [
    "#Set index_col=0 since that has the primary key\n",
    "df = pd.read_csv('data.csv', index_col=0)\n",
    "df"
   ]
  },
  {
   "attachments": {},
   "cell_type": "markdown",
   "metadata": {},
   "source": [
    "### 2. Perform data cleaning and preprocessing tasks on the DataFrame to ensure data quality. This includes handling missing values, correcting data formats, and removing duplicates."
   ]
  },
  {
   "attachments": {},
   "cell_type": "markdown",
   "metadata": {},
   "source": [
    "Remove duplicate rows, if any."
   ]
  },
  {
   "cell_type": "code",
   "execution_count": 33,
   "metadata": {},
   "outputs": [],
   "source": [
    "df.drop_duplicates(inplace=True)"
   ]
  },
  {
   "attachments": {},
   "cell_type": "markdown",
   "metadata": {},
   "source": [
    "Handling Missing Values"
   ]
  },
  {
   "cell_type": "code",
   "execution_count": 34,
   "metadata": {},
   "outputs": [
    {
     "data": {
      "text/plain": [
       "['transaction_date',\n",
       " 'product_name',\n",
       " 'price',\n",
       " 'store_name',\n",
       " 'sales_representative_name',\n",
       " 'client_name']"
      ]
     },
     "execution_count": 34,
     "metadata": {},
     "output_type": "execute_result"
    }
   ],
   "source": [
    "# Which cols have missing values?\n",
    "df.columns[df.isna().any()].tolist()"
   ]
  },
  {
   "cell_type": "code",
   "execution_count": 35,
   "metadata": {},
   "outputs": [],
   "source": [
    "# product_name, store_name, sales_representative_name, client_name should be strings\n",
    "# In industry, confirm with stakeholder on what to set as the default values or if to delete row\n",
    "# -> Replace missing vals in these col w \"unknown\" as default for now\n",
    "for col in ['product_name', 'store_name', 'sales_representative_name', 'client_name']:\n",
    "   df[col].fillna(\"unknown\", inplace = True)\n",
    "\n",
    "# price should be a float\n",
    "# In industry, confirm with stakeholder on what to set as the default price or if to delete row\n",
    "# -> Right now, the only \n",
    "df['price'].fillna(0.00, inplace = True)\n",
    "\n",
    "# transaction_date should be a date formatted as \"YYYY-MM-DD\"\n",
    "# In industry, confirm with stakeholder on what to set as the default date or if to delete row\n",
    "# -> Replace missing dates w \"2023-02-01\" as default for now\n",
    "df['transaction_date'].fillna(\"2023-02-01\", inplace = True)\n",
    "df['transaction_date'] = pd.to_datetime(df['transaction_date'])"
   ]
  },
  {
   "attachments": {},
   "cell_type": "markdown",
   "metadata": {},
   "source": [
    "Check processed dataframe and data types:"
   ]
  },
  {
   "cell_type": "code",
   "execution_count": 36,
   "metadata": {},
   "outputs": [
    {
     "data": {
      "text/html": [
       "<div>\n",
       "<style scoped>\n",
       "    .dataframe tbody tr th:only-of-type {\n",
       "        vertical-align: middle;\n",
       "    }\n",
       "\n",
       "    .dataframe tbody tr th {\n",
       "        vertical-align: top;\n",
       "    }\n",
       "\n",
       "    .dataframe thead th {\n",
       "        text-align: right;\n",
       "    }\n",
       "</style>\n",
       "<table border=\"1\" class=\"dataframe\">\n",
       "  <thead>\n",
       "    <tr style=\"text-align: right;\">\n",
       "      <th></th>\n",
       "      <th>transaction_date</th>\n",
       "      <th>product_name</th>\n",
       "      <th>price</th>\n",
       "      <th>store_name</th>\n",
       "      <th>sales_representative_name</th>\n",
       "      <th>client_name</th>\n",
       "    </tr>\n",
       "    <tr>\n",
       "      <th>transaction_id</th>\n",
       "      <th></th>\n",
       "      <th></th>\n",
       "      <th></th>\n",
       "      <th></th>\n",
       "      <th></th>\n",
       "      <th></th>\n",
       "    </tr>\n",
       "  </thead>\n",
       "  <tbody>\n",
       "    <tr>\n",
       "      <th>t005</th>\n",
       "      <td>2023-02-28</td>\n",
       "      <td>americano</td>\n",
       "      <td>4.00</td>\n",
       "      <td>Queen St</td>\n",
       "      <td>unknown</td>\n",
       "      <td>Christopher Thomas</td>\n",
       "    </tr>\n",
       "    <tr>\n",
       "      <th>t005</th>\n",
       "      <td>2023-02-28</td>\n",
       "      <td>americano</td>\n",
       "      <td>4.00</td>\n",
       "      <td>Queen St</td>\n",
       "      <td>Christopher Thomas</td>\n",
       "      <td>unknown</td>\n",
       "    </tr>\n",
       "    <tr>\n",
       "      <th>t004</th>\n",
       "      <td>2023-02-27</td>\n",
       "      <td>cappuccino</td>\n",
       "      <td>0.00</td>\n",
       "      <td>King St</td>\n",
       "      <td>Andrew Miller</td>\n",
       "      <td>Jennifer Brown</td>\n",
       "    </tr>\n",
       "    <tr>\n",
       "      <th>t003</th>\n",
       "      <td>2023-02-26</td>\n",
       "      <td>espresso</td>\n",
       "      <td>3.50</td>\n",
       "      <td>unknown</td>\n",
       "      <td>Samantha Wilson</td>\n",
       "      <td>Michael Thompson</td>\n",
       "    </tr>\n",
       "    <tr>\n",
       "      <th>t002</th>\n",
       "      <td>2023-02-25</td>\n",
       "      <td>unknown</td>\n",
       "      <td>3.75</td>\n",
       "      <td>Queen St</td>\n",
       "      <td>Sarah Davis</td>\n",
       "      <td>Robert Anderson</td>\n",
       "    </tr>\n",
       "    <tr>\n",
       "      <th>k115</th>\n",
       "      <td>2023-02-24</td>\n",
       "      <td>cappuccino</td>\n",
       "      <td>4.50</td>\n",
       "      <td>King St</td>\n",
       "      <td>Lex Monroe</td>\n",
       "      <td>Joshua Farley</td>\n",
       "    </tr>\n",
       "    <tr>\n",
       "      <th>q235</th>\n",
       "      <td>2023-02-23</td>\n",
       "      <td>americano</td>\n",
       "      <td>4.00</td>\n",
       "      <td>Queen St</td>\n",
       "      <td>Britany Hebert</td>\n",
       "      <td>Joshua Farley</td>\n",
       "    </tr>\n",
       "    <tr>\n",
       "      <th>q234</th>\n",
       "      <td>2023-02-23</td>\n",
       "      <td>cappuccino</td>\n",
       "      <td>4.50</td>\n",
       "      <td>Queen St</td>\n",
       "      <td>Amal Jarvis</td>\n",
       "      <td>Ananya Werner</td>\n",
       "    </tr>\n",
       "    <tr>\n",
       "      <th>k113</th>\n",
       "      <td>2023-02-23</td>\n",
       "      <td>cappuccino</td>\n",
       "      <td>4.50</td>\n",
       "      <td>King St</td>\n",
       "      <td>Zavier Calvert</td>\n",
       "      <td>Miranda Nash</td>\n",
       "    </tr>\n",
       "    <tr>\n",
       "      <th>q236</th>\n",
       "      <td>2023-02-23</td>\n",
       "      <td>tea</td>\n",
       "      <td>3.95</td>\n",
       "      <td>Queen St</td>\n",
       "      <td>Britany Hebert</td>\n",
       "      <td>Thalia Goodwin</td>\n",
       "    </tr>\n",
       "    <tr>\n",
       "      <th>k112</th>\n",
       "      <td>2023-02-22</td>\n",
       "      <td>americano</td>\n",
       "      <td>4.00</td>\n",
       "      <td>King St</td>\n",
       "      <td>Lex Monroe</td>\n",
       "      <td>Thalia Goodwin</td>\n",
       "    </tr>\n",
       "    <tr>\n",
       "      <th>k114</th>\n",
       "      <td>2023-02-22</td>\n",
       "      <td>cappuccino</td>\n",
       "      <td>4.50</td>\n",
       "      <td>King St</td>\n",
       "      <td>Zavier Calvert</td>\n",
       "      <td>Thalia Goodwin</td>\n",
       "    </tr>\n",
       "    <tr>\n",
       "      <th>q233</th>\n",
       "      <td>2023-02-21</td>\n",
       "      <td>tea</td>\n",
       "      <td>3.95</td>\n",
       "      <td>Queen St</td>\n",
       "      <td>Britany Hebert</td>\n",
       "      <td>Ananya Werner</td>\n",
       "    </tr>\n",
       "    <tr>\n",
       "      <th>q232</th>\n",
       "      <td>2023-02-21</td>\n",
       "      <td>cappuccino</td>\n",
       "      <td>4.00</td>\n",
       "      <td>Queen St</td>\n",
       "      <td>Amal Jarvis</td>\n",
       "      <td>Thalia Goodwin</td>\n",
       "    </tr>\n",
       "    <tr>\n",
       "      <th>k111</th>\n",
       "      <td>2023-02-21</td>\n",
       "      <td>americano</td>\n",
       "      <td>4.00</td>\n",
       "      <td>King St</td>\n",
       "      <td>Zavier Calvert</td>\n",
       "      <td>Joshua Farley</td>\n",
       "    </tr>\n",
       "    <tr>\n",
       "      <th>k110</th>\n",
       "      <td>2023-02-20</td>\n",
       "      <td>cappuccino</td>\n",
       "      <td>4.50</td>\n",
       "      <td>King St</td>\n",
       "      <td>Lex Monroe</td>\n",
       "      <td>Miranda Nash</td>\n",
       "    </tr>\n",
       "    <tr>\n",
       "      <th>k109</th>\n",
       "      <td>2023-02-20</td>\n",
       "      <td>americano</td>\n",
       "      <td>4.00</td>\n",
       "      <td>King St</td>\n",
       "      <td>Zavier Calvert</td>\n",
       "      <td>Thalia Goodwin</td>\n",
       "    </tr>\n",
       "    <tr>\n",
       "      <th>k108</th>\n",
       "      <td>2023-02-19</td>\n",
       "      <td>cappuccino</td>\n",
       "      <td>4.50</td>\n",
       "      <td>King St</td>\n",
       "      <td>Zavier Calvert</td>\n",
       "      <td>Joshua Farley</td>\n",
       "    </tr>\n",
       "    <tr>\n",
       "      <th>k107</th>\n",
       "      <td>2023-02-19</td>\n",
       "      <td>cappuccino</td>\n",
       "      <td>4.50</td>\n",
       "      <td>King St</td>\n",
       "      <td>Zavier Calvert</td>\n",
       "      <td>Ananya Werner</td>\n",
       "    </tr>\n",
       "    <tr>\n",
       "      <th>q231</th>\n",
       "      <td>2023-02-18</td>\n",
       "      <td>tea</td>\n",
       "      <td>3.95</td>\n",
       "      <td>Queen St</td>\n",
       "      <td>Britany Hebert</td>\n",
       "      <td>Ananya Werner</td>\n",
       "    </tr>\n",
       "    <tr>\n",
       "      <th>k106</th>\n",
       "      <td>2023-02-18</td>\n",
       "      <td>americano</td>\n",
       "      <td>4.00</td>\n",
       "      <td>King St</td>\n",
       "      <td>Zavier Calvert</td>\n",
       "      <td>Miranda Nash</td>\n",
       "    </tr>\n",
       "    <tr>\n",
       "      <th>q230</th>\n",
       "      <td>2023-02-18</td>\n",
       "      <td>cappuccino</td>\n",
       "      <td>4.50</td>\n",
       "      <td>Queen St</td>\n",
       "      <td>Amal Jarvis</td>\n",
       "      <td>Louis Jackson</td>\n",
       "    </tr>\n",
       "    <tr>\n",
       "      <th>k105</th>\n",
       "      <td>2023-02-18</td>\n",
       "      <td>cappuccino</td>\n",
       "      <td>4.50</td>\n",
       "      <td>King St</td>\n",
       "      <td>Lex Monroe</td>\n",
       "      <td>Gabriel Palmer</td>\n",
       "    </tr>\n",
       "    <tr>\n",
       "      <th>t001</th>\n",
       "      <td>2023-02-01</td>\n",
       "      <td>latte</td>\n",
       "      <td>4.20</td>\n",
       "      <td>King St</td>\n",
       "      <td>John Smith</td>\n",
       "      <td>Emily Johnson</td>\n",
       "    </tr>\n",
       "  </tbody>\n",
       "</table>\n",
       "</div>"
      ],
      "text/plain": [
       "               transaction_date product_name  price store_name  \\\n",
       "transaction_id                                                   \n",
       "t005                 2023-02-28    americano   4.00   Queen St   \n",
       "t005                 2023-02-28    americano   4.00   Queen St   \n",
       "t004                 2023-02-27   cappuccino   0.00    King St   \n",
       "t003                 2023-02-26     espresso   3.50    unknown   \n",
       "t002                 2023-02-25      unknown   3.75   Queen St   \n",
       "k115                 2023-02-24   cappuccino   4.50    King St   \n",
       "q235                 2023-02-23    americano   4.00   Queen St   \n",
       "q234                 2023-02-23   cappuccino   4.50   Queen St   \n",
       "k113                 2023-02-23   cappuccino   4.50    King St   \n",
       "q236                 2023-02-23          tea   3.95   Queen St   \n",
       "k112                 2023-02-22    americano   4.00    King St   \n",
       "k114                 2023-02-22   cappuccino   4.50    King St   \n",
       "q233                 2023-02-21          tea   3.95   Queen St   \n",
       "q232                 2023-02-21   cappuccino   4.00   Queen St   \n",
       "k111                 2023-02-21    americano   4.00    King St   \n",
       "k110                 2023-02-20   cappuccino   4.50    King St   \n",
       "k109                 2023-02-20    americano   4.00    King St   \n",
       "k108                 2023-02-19   cappuccino   4.50    King St   \n",
       "k107                 2023-02-19   cappuccino   4.50    King St   \n",
       "q231                 2023-02-18          tea   3.95   Queen St   \n",
       "k106                 2023-02-18    americano   4.00    King St   \n",
       "q230                 2023-02-18   cappuccino   4.50   Queen St   \n",
       "k105                 2023-02-18   cappuccino   4.50    King St   \n",
       "t001                 2023-02-01        latte   4.20    King St   \n",
       "\n",
       "               sales_representative_name         client_name  \n",
       "transaction_id                                                \n",
       "t005                             unknown  Christopher Thomas  \n",
       "t005                  Christopher Thomas             unknown  \n",
       "t004                       Andrew Miller      Jennifer Brown  \n",
       "t003                     Samantha Wilson    Michael Thompson  \n",
       "t002                         Sarah Davis     Robert Anderson  \n",
       "k115                          Lex Monroe       Joshua Farley  \n",
       "q235                      Britany Hebert       Joshua Farley  \n",
       "q234                         Amal Jarvis       Ananya Werner  \n",
       "k113                      Zavier Calvert        Miranda Nash  \n",
       "q236                      Britany Hebert      Thalia Goodwin  \n",
       "k112                          Lex Monroe      Thalia Goodwin  \n",
       "k114                      Zavier Calvert      Thalia Goodwin  \n",
       "q233                      Britany Hebert       Ananya Werner  \n",
       "q232                         Amal Jarvis      Thalia Goodwin  \n",
       "k111                      Zavier Calvert       Joshua Farley  \n",
       "k110                          Lex Monroe        Miranda Nash  \n",
       "k109                      Zavier Calvert      Thalia Goodwin  \n",
       "k108                      Zavier Calvert       Joshua Farley  \n",
       "k107                      Zavier Calvert       Ananya Werner  \n",
       "q231                      Britany Hebert       Ananya Werner  \n",
       "k106                      Zavier Calvert        Miranda Nash  \n",
       "q230                         Amal Jarvis       Louis Jackson  \n",
       "k105                          Lex Monroe      Gabriel Palmer  \n",
       "t001                          John Smith       Emily Johnson  "
      ]
     },
     "execution_count": 36,
     "metadata": {},
     "output_type": "execute_result"
    }
   ],
   "source": [
    "df"
   ]
  },
  {
   "cell_type": "code",
   "execution_count": 37,
   "metadata": {},
   "outputs": [
    {
     "data": {
      "text/plain": [
       "transaction_date             datetime64[ns]\n",
       "product_name                         object\n",
       "price                               float64\n",
       "store_name                           object\n",
       "sales_representative_name            object\n",
       "client_name                          object\n",
       "dtype: object"
      ]
     },
     "execution_count": 37,
     "metadata": {},
     "output_type": "execute_result"
    }
   ],
   "source": [
    "df.dtypes"
   ]
  },
  {
   "attachments": {},
   "cell_type": "markdown",
   "metadata": {},
   "source": [
    "Looks good!"
   ]
  },
  {
   "attachments": {},
   "cell_type": "markdown",
   "metadata": {},
   "source": [
    "### 3. Explore the dataset and answer the following questions:"
   ]
  },
  {
   "attachments": {},
   "cell_type": "markdown",
   "metadata": {},
   "source": [
    "**a) How many unique clients are there in the dataset?**"
   ]
  },
  {
   "cell_type": "code",
   "execution_count": 38,
   "metadata": {},
   "outputs": [
    {
     "data": {
      "text/plain": [
       "12"
      ]
     },
     "execution_count": 38,
     "metadata": {},
     "output_type": "execute_result"
    }
   ],
   "source": [
    "# Count unique values in client_name?\n",
    "df['client_name'].nunique()"
   ]
  },
  {
   "attachments": {},
   "cell_type": "markdown",
   "metadata": {},
   "source": [
    "Therefore, there are 11 unique clients (ignoring transactions with unknown clients)."
   ]
  },
  {
   "attachments": {},
   "cell_type": "markdown",
   "metadata": {},
   "source": [
    "**b)  Which store has the highest total sales?**"
   ]
  },
  {
   "cell_type": "code",
   "execution_count": 39,
   "metadata": {},
   "outputs": [
    {
     "data": {
      "text/html": [
       "<div>\n",
       "<style scoped>\n",
       "    .dataframe tbody tr th:only-of-type {\n",
       "        vertical-align: middle;\n",
       "    }\n",
       "\n",
       "    .dataframe tbody tr th {\n",
       "        vertical-align: top;\n",
       "    }\n",
       "\n",
       "    .dataframe thead th {\n",
       "        text-align: right;\n",
       "    }\n",
       "</style>\n",
       "<table border=\"1\" class=\"dataframe\">\n",
       "  <thead>\n",
       "    <tr style=\"text-align: right;\">\n",
       "      <th></th>\n",
       "      <th>tot_sales</th>\n",
       "    </tr>\n",
       "    <tr>\n",
       "      <th>store_name</th>\n",
       "      <th></th>\n",
       "    </tr>\n",
       "  </thead>\n",
       "  <tbody>\n",
       "    <tr>\n",
       "      <th>King St</th>\n",
       "      <td>51.7</td>\n",
       "    </tr>\n",
       "    <tr>\n",
       "      <th>Queen St</th>\n",
       "      <td>40.6</td>\n",
       "    </tr>\n",
       "    <tr>\n",
       "      <th>unknown</th>\n",
       "      <td>3.5</td>\n",
       "    </tr>\n",
       "  </tbody>\n",
       "</table>\n",
       "</div>"
      ],
      "text/plain": [
       "            tot_sales\n",
       "store_name           \n",
       "King St          51.7\n",
       "Queen St         40.6\n",
       "unknown           3.5"
      ]
     },
     "execution_count": 39,
     "metadata": {},
     "output_type": "execute_result"
    }
   ],
   "source": [
    "# Group by store and sum the prices\n",
    "tot_sales = df.groupby('store_name').agg({'price':'sum'})\\\n",
    "    .rename(columns={'price':'tot_sales'})\\\n",
    "    .sort_values('tot_sales', ascending=False)\n",
    "\n",
    "tot_sales"
   ]
  },
  {
   "attachments": {},
   "cell_type": "markdown",
   "metadata": {},
   "source": [
    "Therefore, King St has the highest total sales at $51.70."
   ]
  },
  {
   "attachments": {},
   "cell_type": "markdown",
   "metadata": {},
   "source": [
    "**c) How many transactions were made in each store?**"
   ]
  },
  {
   "cell_type": "code",
   "execution_count": 40,
   "metadata": {},
   "outputs": [
    {
     "data": {
      "text/html": [
       "<div>\n",
       "<style scoped>\n",
       "    .dataframe tbody tr th:only-of-type {\n",
       "        vertical-align: middle;\n",
       "    }\n",
       "\n",
       "    .dataframe tbody tr th {\n",
       "        vertical-align: top;\n",
       "    }\n",
       "\n",
       "    .dataframe thead th {\n",
       "        text-align: right;\n",
       "    }\n",
       "</style>\n",
       "<table border=\"1\" class=\"dataframe\">\n",
       "  <thead>\n",
       "    <tr style=\"text-align: right;\">\n",
       "      <th></th>\n",
       "      <th>num_transactions</th>\n",
       "    </tr>\n",
       "    <tr>\n",
       "      <th>store_name</th>\n",
       "      <th></th>\n",
       "    </tr>\n",
       "  </thead>\n",
       "  <tbody>\n",
       "    <tr>\n",
       "      <th>King St</th>\n",
       "      <td>13</td>\n",
       "    </tr>\n",
       "    <tr>\n",
       "      <th>Queen St</th>\n",
       "      <td>10</td>\n",
       "    </tr>\n",
       "    <tr>\n",
       "      <th>unknown</th>\n",
       "      <td>1</td>\n",
       "    </tr>\n",
       "  </tbody>\n",
       "</table>\n",
       "</div>"
      ],
      "text/plain": [
       "            num_transactions\n",
       "store_name                  \n",
       "King St                   13\n",
       "Queen St                  10\n",
       "unknown                    1"
      ]
     },
     "execution_count": 40,
     "metadata": {},
     "output_type": "execute_result"
    }
   ],
   "source": [
    "# Group by store and count transactions\n",
    "num_transactions = df.reset_index().groupby('store_name').agg({'transaction_id':'count'})\\\n",
    "    .rename(columns={'transaction_id':'num_transactions'})\\\n",
    "    .sort_values('num_transactions', ascending=False)\n",
    "\n",
    "num_transactions"
   ]
  },
  {
   "attachments": {},
   "cell_type": "markdown",
   "metadata": {},
   "source": [
    "**d) What is the distribution of product purchases across different stores?**"
   ]
  },
  {
   "cell_type": "code",
   "execution_count": 41,
   "metadata": {},
   "outputs": [
    {
     "data": {
      "text/html": [
       "<div>\n",
       "<style scoped>\n",
       "    .dataframe tbody tr th:only-of-type {\n",
       "        vertical-align: middle;\n",
       "    }\n",
       "\n",
       "    .dataframe tbody tr th {\n",
       "        vertical-align: top;\n",
       "    }\n",
       "\n",
       "    .dataframe thead th {\n",
       "        text-align: right;\n",
       "    }\n",
       "</style>\n",
       "<table border=\"1\" class=\"dataframe\">\n",
       "  <thead>\n",
       "    <tr style=\"text-align: right;\">\n",
       "      <th></th>\n",
       "      <th>num_americano</th>\n",
       "      <th>num_cappuccino</th>\n",
       "      <th>num_espresso</th>\n",
       "      <th>num_latte</th>\n",
       "      <th>num_tea</th>\n",
       "      <th>num_unknown</th>\n",
       "    </tr>\n",
       "    <tr>\n",
       "      <th>store_name</th>\n",
       "      <th></th>\n",
       "      <th></th>\n",
       "      <th></th>\n",
       "      <th></th>\n",
       "      <th></th>\n",
       "      <th></th>\n",
       "    </tr>\n",
       "  </thead>\n",
       "  <tbody>\n",
       "    <tr>\n",
       "      <th>King St</th>\n",
       "      <td>4</td>\n",
       "      <td>8</td>\n",
       "      <td>0</td>\n",
       "      <td>1</td>\n",
       "      <td>0</td>\n",
       "      <td>0</td>\n",
       "    </tr>\n",
       "    <tr>\n",
       "      <th>Queen St</th>\n",
       "      <td>3</td>\n",
       "      <td>3</td>\n",
       "      <td>0</td>\n",
       "      <td>0</td>\n",
       "      <td>3</td>\n",
       "      <td>1</td>\n",
       "    </tr>\n",
       "    <tr>\n",
       "      <th>unknown</th>\n",
       "      <td>0</td>\n",
       "      <td>0</td>\n",
       "      <td>1</td>\n",
       "      <td>0</td>\n",
       "      <td>0</td>\n",
       "      <td>0</td>\n",
       "    </tr>\n",
       "  </tbody>\n",
       "</table>\n",
       "</div>"
      ],
      "text/plain": [
       "            num_americano  num_cappuccino  num_espresso  num_latte  num_tea  \\\n",
       "store_name                                                                    \n",
       "King St                 4               8             0          1        0   \n",
       "Queen St                3               3             0          0        3   \n",
       "unknown                 0               0             1          0        0   \n",
       "\n",
       "            num_unknown  \n",
       "store_name               \n",
       "King St               0  \n",
       "Queen St              1  \n",
       "unknown               0  "
      ]
     },
     "execution_count": 41,
     "metadata": {},
     "output_type": "execute_result"
    }
   ],
   "source": [
    "# Cross tab store, roduct\n",
    "store_prod_distribution_num = pd.crosstab(index=df['store_name'], columns=df['product_name'])\\\n",
    "    .reset_index().set_index('store_name').rename_axis(None, axis=1)\\\n",
    "    .rename(columns={'americano':'num_americano',\n",
    "                     'cappuccino':'num_cappuccino',\n",
    "                     'espresso':'num_espresso',\n",
    "                     'latte':'num_latte',\n",
    "                     'tea':'num_tea',\n",
    "                     'unknown':'num_unknown'})\n",
    "\n",
    "store_prod_distribution_num"
   ]
  },
  {
   "cell_type": "code",
   "execution_count": 42,
   "metadata": {},
   "outputs": [
    {
     "data": {
      "text/html": [
       "<div>\n",
       "<style scoped>\n",
       "    .dataframe tbody tr th:only-of-type {\n",
       "        vertical-align: middle;\n",
       "    }\n",
       "\n",
       "    .dataframe tbody tr th {\n",
       "        vertical-align: top;\n",
       "    }\n",
       "\n",
       "    .dataframe thead th {\n",
       "        text-align: right;\n",
       "    }\n",
       "</style>\n",
       "<table border=\"1\" class=\"dataframe\">\n",
       "  <thead>\n",
       "    <tr style=\"text-align: right;\">\n",
       "      <th></th>\n",
       "      <th>pct_americano</th>\n",
       "      <th>pct_cappuccino</th>\n",
       "      <th>pct_espresso</th>\n",
       "      <th>pct_latte</th>\n",
       "      <th>pct_tea</th>\n",
       "      <th>pct_unknown</th>\n",
       "    </tr>\n",
       "    <tr>\n",
       "      <th>store_name</th>\n",
       "      <th></th>\n",
       "      <th></th>\n",
       "      <th></th>\n",
       "      <th></th>\n",
       "      <th></th>\n",
       "      <th></th>\n",
       "    </tr>\n",
       "  </thead>\n",
       "  <tbody>\n",
       "    <tr>\n",
       "      <th>King St</th>\n",
       "      <td>30.769231</td>\n",
       "      <td>61.538462</td>\n",
       "      <td>0.0</td>\n",
       "      <td>7.692308</td>\n",
       "      <td>0.0</td>\n",
       "      <td>0.0</td>\n",
       "    </tr>\n",
       "    <tr>\n",
       "      <th>Queen St</th>\n",
       "      <td>30.000000</td>\n",
       "      <td>30.000000</td>\n",
       "      <td>0.0</td>\n",
       "      <td>0.000000</td>\n",
       "      <td>30.0</td>\n",
       "      <td>10.0</td>\n",
       "    </tr>\n",
       "    <tr>\n",
       "      <th>unknown</th>\n",
       "      <td>0.000000</td>\n",
       "      <td>0.000000</td>\n",
       "      <td>100.0</td>\n",
       "      <td>0.000000</td>\n",
       "      <td>0.0</td>\n",
       "      <td>0.0</td>\n",
       "    </tr>\n",
       "  </tbody>\n",
       "</table>\n",
       "</div>"
      ],
      "text/plain": [
       "            pct_americano  pct_cappuccino  pct_espresso  pct_latte  pct_tea  \\\n",
       "store_name                                                                    \n",
       "King St         30.769231       61.538462           0.0   7.692308      0.0   \n",
       "Queen St        30.000000       30.000000           0.0   0.000000     30.0   \n",
       "unknown          0.000000        0.000000         100.0   0.000000      0.0   \n",
       "\n",
       "            pct_unknown  \n",
       "store_name               \n",
       "King St             0.0  \n",
       "Queen St           10.0  \n",
       "unknown             0.0  "
      ]
     },
     "execution_count": 42,
     "metadata": {},
     "output_type": "execute_result"
    }
   ],
   "source": [
    "# Can also write as percentage of total products sold for a normalized insight\n",
    "store_prod_distribution_pct = store_prod_distribution_num.apply(lambda x: x/sum(x)*100, axis=1)\\\n",
    "    .rename(columns={'num_americano':'pct_americano',\n",
    "                     'num_cappuccino':'pct_cappuccino',\n",
    "                     'num_espresso':'pct_espresso',\n",
    "                     'num_latte':'pct_latte',\n",
    "                     'num_tea':'pct_tea',\n",
    "                     'num_unknown':'pct_unknown'})\n",
    "store_prod_distribution_pct"
   ]
  },
  {
   "attachments": {},
   "cell_type": "markdown",
   "metadata": {},
   "source": [
    "### 4.  Create visualizations to represent the insights gained from the data analysis."
   ]
  },
  {
   "attachments": {},
   "cell_type": "markdown",
   "metadata": {},
   "source": [
    "Let's visualize number of sales by store and total sales by store as stacked bar graphs by product so that we also know the contribution from each product. This well help us determine which products to focus on by popularity and revenue by store."
   ]
  },
  {
   "cell_type": "code",
   "execution_count": 43,
   "metadata": {},
   "outputs": [
    {
     "data": {
      "image/png": "[encoded data removed]",
      "text/plain": [
       "<Figure size 640x480 with 1 Axes>"
      ]
     },
     "metadata": {},
     "output_type": "display_data"
    },
    {
     "data": {
      "image/png": "[encoded data removed]",
      "text/plain": [
       "<Figure size 640x480 with 1 Axes>"
      ]
     },
     "metadata": {},
     "output_type": "display_data"
    }
   ],
   "source": [
    "def visualize_sale_by_store_product():\n",
    "    # Cross tab store, product\n",
    "    store_prod_num = pd.crosstab(index=df['store_name'], columns=df['product_name'])\\\n",
    "        .reset_index().fillna(0)\n",
    "\n",
    "    store_prod_num_plot = store_prod_num.plot.bar(x='store_name', y=['americano', 'cappuccino', 'espresso', 'latte', 'tea', 'unknown'], stacked=True)\n",
    "    store_prod_num_plot.set_title('Number of Sales by Store')\n",
    "    store_prod_num_plot.set_xlabel('Store Name')\n",
    "    store_prod_num_plot.set_ylabel('Number of Sales')\n",
    "    store_prod_num_plot.set_xticklabels(['King St','Queen St','Unknown'], rotation=0)\n",
    "    store_prod_num_plot.grid(axis='y', which='both')\n",
    "    plt.show()\n",
    "\n",
    "    # Cross tab store, product, with values as price sum\n",
    "    store_prod_sales = pd.crosstab(index=df['store_name'], columns=df['product_name'], values=df['price'], aggfunc='sum')\\\n",
    "        .reset_index().fillna(0)\n",
    "\n",
    "    store_prod_sales_plot = store_prod_sales.plot.bar(x='store_name', y=['americano', 'cappuccino', 'espresso', 'latte', 'tea', 'unknown'], stacked=True)\n",
    "    store_prod_sales_plot.set_title('Total Sales by Store')\n",
    "    store_prod_sales_plot.set_xlabel('Store Name')\n",
    "    store_prod_sales_plot.set_ylabel('Total Sales [CAD]')\n",
    "    store_prod_sales_plot.set_xticklabels(['King St','Queen St','Unknown'], rotation=0)\n",
    "    store_prod_sales_plot.grid(axis='y', which='both')\n",
    "    plt.show()\n",
    "\n",
    "visualize_sale_by_store_product()"
   ]
  },
  {
   "attachments": {},
   "cell_type": "markdown",
   "metadata": {},
   "source": [
    "Let's visualize how many client exclusively attend 1 store vs multiple stores to see if we can customize each store's offering by how exclusive their markets are."
   ]
  },
  {
   "cell_type": "code",
   "execution_count": 44,
   "metadata": {},
   "outputs": [
    {
     "name": "stdout",
     "output_type": "stream",
     "text": [
      "num_kings=4, num_queens=3, num_both=3\n"
     ]
    }
   ],
   "source": [
    "# Drop transacs w unknown stores or clients\n",
    "df_known = df[(df.store_name != 'unknown') & (df.client_name != 'unknown')]\n",
    "\n",
    "# King St clients\n",
    "df_kings = df_known[df_known.store_name == 'King St']\n",
    "kings = set(df_kings.client_name)\n",
    "\n",
    "# Queen St clients\n",
    "df_queens = df_known[df_known.store_name == 'Queen St']\n",
    "queens = set(df_queens.client_name)\n",
    "\n",
    "#Exclusive\n",
    "num_kings = len(kings -  queens)\n",
    "num_queens = len(queens - kings)\n",
    "num_both = len(kings.intersection(queens))\n",
    "\n",
    "print('num_kings={}, num_queens={}, num_both={}'.format(num_kings, num_queens, num_both))"
   ]
  },
  {
   "cell_type": "code",
   "execution_count": 45,
   "metadata": {},
   "outputs": [
    {
     "data": {
      "image/png": "[encoded data removed]",
      "text/plain": [
       "<Figure size 640x480 with 1 Axes>"
      ]
     },
     "metadata": {},
     "output_type": "display_data"
    }
   ],
   "source": [
    "def visualize_client_distribution():\n",
    "    exclusive_data = {'Purchased Exclusively from King St':num_kings, 'Purchased Exclusively from Queen St':num_queens, 'Purchased from Both':num_both}\n",
    "    plt.pie(exclusive_data.values(), labels=exclusive_data.keys(), autopct='%1.1f%%', startangle=90, explode=[0, 0, 0.2], shadow=True)\n",
    "    plt.title(\"Client Distribution Between Stores\")\n",
    "    plt.show()\n",
    "\n",
    "visualize_client_distribution()"
   ]
  },
  {
   "attachments": {},
   "cell_type": "markdown",
   "metadata": {},
   "source": [
    "Let's visualize repeat business to determine client retention."
   ]
  },
  {
   "cell_type": "code",
   "execution_count": 46,
   "metadata": {},
   "outputs": [
    {
     "name": "stdout",
     "output_type": "stream",
     "text": [
      "7 clients made 1 purchase. 4 made multiple purchases.\n"
     ]
    }
   ],
   "source": [
    "purchses_per_client = df[(df.client_name != 'unknown')].reset_index().groupby('client_name').agg({'transaction_id':'count'})\n",
    "num_repeat_business = purchses_per_client[(purchses_per_client.transaction_id > 1)].shape[0]\n",
    "num_single_business = purchses_per_client[(purchses_per_client.transaction_id <= 1)].shape[0]\n",
    "print('{} clients made 1 purchase. {} made multiple purchases.'.format(num_single_business, num_repeat_business))"
   ]
  },
  {
   "cell_type": "code",
   "execution_count": 47,
   "metadata": {},
   "outputs": [
    {
     "data": {
      "image/png": "[encoded data removed]",
      "text/plain": [
       "<Figure size 640x480 with 1 Axes>"
      ]
     },
     "metadata": {},
     "output_type": "display_data"
    }
   ],
   "source": [
    "def visualize_retention():\n",
    "    retention_data = {'Clients who made a single purchase.':num_single_business, 'Clients who made multiple purchases':num_repeat_business}\n",
    "    plt.pie(retention_data.values(), labels=retention_data.keys(), autopct='%1.1f%%', startangle=90, explode=[0, 0.2], shadow=True)\n",
    "    plt.title(\"Amount of Repeat Business\")\n",
    "    plt.show()\n",
    "\n",
    "visualize_retention()"
   ]
  },
  {
   "attachments": {},
   "cell_type": "markdown",
   "metadata": {},
   "source": [
    "### 5. Calculate the total amount spent by each client and identify the top-spending clients."
   ]
  },
  {
   "cell_type": "code",
   "execution_count": 48,
   "metadata": {},
   "outputs": [
    {
     "data": {
      "text/html": [
       "<div>\n",
       "<style scoped>\n",
       "    .dataframe tbody tr th:only-of-type {\n",
       "        vertical-align: middle;\n",
       "    }\n",
       "\n",
       "    .dataframe tbody tr th {\n",
       "        vertical-align: top;\n",
       "    }\n",
       "\n",
       "    .dataframe thead th {\n",
       "        text-align: right;\n",
       "    }\n",
       "</style>\n",
       "<table border=\"1\" class=\"dataframe\">\n",
       "  <thead>\n",
       "    <tr style=\"text-align: right;\">\n",
       "      <th></th>\n",
       "      <th>total_purchases</th>\n",
       "    </tr>\n",
       "    <tr>\n",
       "      <th>client_name</th>\n",
       "      <th></th>\n",
       "    </tr>\n",
       "  </thead>\n",
       "  <tbody>\n",
       "    <tr>\n",
       "      <th>Thalia Goodwin</th>\n",
       "      <td>20.45</td>\n",
       "    </tr>\n",
       "    <tr>\n",
       "      <th>Joshua Farley</th>\n",
       "      <td>17.00</td>\n",
       "    </tr>\n",
       "    <tr>\n",
       "      <th>Ananya Werner</th>\n",
       "      <td>16.90</td>\n",
       "    </tr>\n",
       "    <tr>\n",
       "      <th>Miranda Nash</th>\n",
       "      <td>13.00</td>\n",
       "    </tr>\n",
       "    <tr>\n",
       "      <th>Gabriel Palmer</th>\n",
       "      <td>4.50</td>\n",
       "    </tr>\n",
       "    <tr>\n",
       "      <th>Louis Jackson</th>\n",
       "      <td>4.50</td>\n",
       "    </tr>\n",
       "    <tr>\n",
       "      <th>Emily Johnson</th>\n",
       "      <td>4.20</td>\n",
       "    </tr>\n",
       "    <tr>\n",
       "      <th>Christopher Thomas</th>\n",
       "      <td>4.00</td>\n",
       "    </tr>\n",
       "    <tr>\n",
       "      <th>unknown</th>\n",
       "      <td>4.00</td>\n",
       "    </tr>\n",
       "    <tr>\n",
       "      <th>Robert Anderson</th>\n",
       "      <td>3.75</td>\n",
       "    </tr>\n",
       "    <tr>\n",
       "      <th>Michael Thompson</th>\n",
       "      <td>3.50</td>\n",
       "    </tr>\n",
       "    <tr>\n",
       "      <th>Jennifer Brown</th>\n",
       "      <td>0.00</td>\n",
       "    </tr>\n",
       "  </tbody>\n",
       "</table>\n",
       "</div>"
      ],
      "text/plain": [
       "                    total_purchases\n",
       "client_name                        \n",
       "Thalia Goodwin                20.45\n",
       "Joshua Farley                 17.00\n",
       "Ananya Werner                 16.90\n",
       "Miranda Nash                  13.00\n",
       "Gabriel Palmer                 4.50\n",
       "Louis Jackson                  4.50\n",
       "Emily Johnson                  4.20\n",
       "Christopher Thomas             4.00\n",
       "unknown                        4.00\n",
       "Robert Anderson                3.75\n",
       "Michael Thompson               3.50\n",
       "Jennifer Brown                 0.00"
      ]
     },
     "execution_count": 48,
     "metadata": {},
     "output_type": "execute_result"
    }
   ],
   "source": [
    "client_spending = df.groupby('client_name').agg({'price':'sum'})\\\n",
    "    .rename(columns={'price':'total_purchases'})\\\n",
    "    .sort_values('total_purchases', ascending=False)\n",
    "\n",
    "client_spending"
   ]
  },
  {
   "attachments": {},
   "cell_type": "markdown",
   "metadata": {},
   "source": [
    "Above is a table of all clients' total purchases, listed from highest to lowest."
   ]
  },
  {
   "attachments": {},
   "cell_type": "markdown",
   "metadata": {},
   "source": [
    "### 6. Write a SQL query to find all clients from the store “King St” whose latest purchase was a “cappuccino”. Sort the clients by the total amount spent on all purchases. Show the client names and their total spending."
   ]
  },
  {
   "cell_type": "code",
   "execution_count": 49,
   "metadata": {},
   "outputs": [],
   "source": [
    "QUERY = \"\"\"\n",
    "SELECT client_name, SUM(price) as total_spending\n",
    "\n",
    "FROM df INNER JOIN (\n",
    "\n",
    "    SELECT df.client_name as valid_clients\n",
    "\n",
    "    FROM df INNER JOIN (\n",
    "\n",
    "        SELECT client_name, MAX(transaction_date) AS latest_date\n",
    "        FROM df\n",
    "        GROUP BY client_name\n",
    "\n",
    "    ) latest_transactions\n",
    "\n",
    "    ON df.client_name = latest_transactions.client_name\n",
    "    AND df.transaction_date = latest_transactions.latest_date\n",
    "\n",
    "    WHERE store_name = \"King St\"\n",
    "    AND product_name = \"cappuccino\"\n",
    "\n",
    ") valid_clients\n",
    "\n",
    "ON client_name = valid_clients\n",
    "\n",
    "GROUP BY client_name\n",
    "ORDER BY total_spending DESC\n",
    "\"\"\""
   ]
  },
  {
   "attachments": {},
   "cell_type": "markdown",
   "metadata": {},
   "source": [
    "### 7.  Validate the query’s optimization by explaining its execution plan. Discuss any indexes or optimizations that can be applied to improve its performance.\n"
   ]
  },
  {
   "attachments": {},
   "cell_type": "markdown",
   "metadata": {},
   "source": [
    "**Execution Plan**"
   ]
  },
  {
   "attachments": {},
   "cell_type": "markdown",
   "metadata": {},
   "source": [
    "The first subquery, \"latest_transactions\", returns each client's name and the time of their latest transactions. It does so by grouping the DataFrame (df) by client_name and selecting the max transaction_time."
   ]
  },
  {
   "attachments": {},
   "cell_type": "markdown",
   "metadata": {},
   "source": [
    "The second subquery, \"valid_clients\", returns each clients name whos latest purchase was a \"cappuccino\" from \"king st\". It does so by joining the df with latest_trasactions on client_name and the time of latest transaction, ensuring that only transaction data for each customer's most recent purchase is present, then filters to keep only those transactions which were a cappuccinno from king st."
   ]
  },
  {
   "attachments": {},
   "cell_type": "markdown",
   "metadata": {},
   "source": [
    "The main query returns the total spenditure of the valid clients determined in the previous subquery. It does so by joining the df with valid_clients on client name, ensuring that all transaction data is present for only valid clients. Then, it groups by client_name and sums up each of their \"price\", renamed to \"total_spending\". Finally, it orders tuples in descending order of their \"total_spending\" as instructed."
   ]
  },
  {
   "attachments": {},
   "cell_type": "markdown",
   "metadata": {},
   "source": [
    "**Optimization**"
   ]
  },
  {
   "attachments": {},
   "cell_type": "markdown",
   "metadata": {},
   "source": [
    "Creating an index on the \"client_name\" and \"transaction_date\" colummns could speed up the joins as indexing allows for faster lookup and retrieval of specific rows based on the indexed columns."
   ]
  },
  {
   "attachments": {},
   "cell_type": "markdown",
   "metadata": {},
   "source": [
    "Suppose the given dataset was significantly larger. Indexing the \"store_name\" and \"product_name\" columns can improve the filtering process during the join, reducing the number of rows involved in subsequent operations."
   ]
  },
  {
   "attachments": {},
   "cell_type": "markdown",
   "metadata": {},
   "source": [
    "Partitioning df based on the transaction_date column can improve query performance as it splits the data into smaller, more manageable portions, allowing for faster data retrieval and aggregation operations."
   ]
  },
  {
   "attachments": {},
   "cell_type": "markdown",
   "metadata": {},
   "source": [
    "### 8.  Execute the query using Python and display the results."
   ]
  },
  {
   "cell_type": "code",
   "execution_count": 50,
   "metadata": {},
   "outputs": [
    {
     "data": {
      "text/html": [
       "<div>\n",
       "<style scoped>\n",
       "    .dataframe tbody tr th:only-of-type {\n",
       "        vertical-align: middle;\n",
       "    }\n",
       "\n",
       "    .dataframe tbody tr th {\n",
       "        vertical-align: top;\n",
       "    }\n",
       "\n",
       "    .dataframe thead th {\n",
       "        text-align: right;\n",
       "    }\n",
       "</style>\n",
       "<table border=\"1\" class=\"dataframe\">\n",
       "  <thead>\n",
       "    <tr style=\"text-align: right;\">\n",
       "      <th></th>\n",
       "      <th>client_name</th>\n",
       "      <th>total_spending</th>\n",
       "    </tr>\n",
       "  </thead>\n",
       "  <tbody>\n",
       "    <tr>\n",
       "      <th>0</th>\n",
       "      <td>Joshua Farley</td>\n",
       "      <td>17.0</td>\n",
       "    </tr>\n",
       "    <tr>\n",
       "      <th>1</th>\n",
       "      <td>Miranda Nash</td>\n",
       "      <td>13.0</td>\n",
       "    </tr>\n",
       "    <tr>\n",
       "      <th>2</th>\n",
       "      <td>Gabriel Palmer</td>\n",
       "      <td>4.5</td>\n",
       "    </tr>\n",
       "    <tr>\n",
       "      <th>3</th>\n",
       "      <td>Jennifer Brown</td>\n",
       "      <td>0.0</td>\n",
       "    </tr>\n",
       "  </tbody>\n",
       "</table>\n",
       "</div>"
      ],
      "text/plain": [
       "      client_name  total_spending\n",
       "0   Joshua Farley            17.0\n",
       "1    Miranda Nash            13.0\n",
       "2  Gabriel Palmer             4.5\n",
       "3  Jennifer Brown             0.0"
      ]
     },
     "execution_count": 50,
     "metadata": {},
     "output_type": "execute_result"
    }
   ],
   "source": [
    "sql(QUERY)"
   ]
  },
  {
   "attachments": {},
   "cell_type": "markdown",
   "metadata": {},
   "source": [
    "Note: Jennifer's total spending is shown as $0 because that is the default value I chose for missing price values. Her only purchase, a cappuccino from King St, was missing its price. I could not safely guess the price of this drink because it sold for different prices in the dataset, even at the same store. In industry, I would communicate with the stakeholder on how to resolve or ignore Jennifer all together."
   ]
  },
  {
   "attachments": {},
   "cell_type": "markdown",
   "metadata": {},
   "source": [
    "### 9. Write a summary of the key findings from the data analysis and suggest actionable insights based on the results that would help this customer improve their business."
   ]
  },
  {
   "attachments": {},
   "cell_type": "markdown",
   "metadata": {},
   "source": [
    "**Investment in/downsizing the production of certain products**"
   ]
  },
  {
   "cell_type": "code",
   "execution_count": 51,
   "metadata": {},
   "outputs": [
    {
     "data": {
      "image/png": "[encoded data removed]",
      "text/plain": [
       "<Figure size 640x480 with 1 Axes>"
      ]
     },
     "metadata": {},
     "output_type": "display_data"
    },
    {
     "data": {
      "image/png": "[encoded data removed]",
      "text/plain": [
       "<Figure size 640x480 with 1 Axes>"
      ]
     },
     "metadata": {},
     "output_type": "display_data"
    }
   ],
   "source": [
    "visualize_sale_by_store_product()"
   ]
  },
  {
   "attachments": {},
   "cell_type": "markdown",
   "metadata": {},
   "source": [
    "As evident above, cappuccino and americano are major sources of revenue for both locations, especially at King St. This is a valuable insight for the business as they can decide to invest in cappuccino/americano equipment to increase production and quality to capitalize on these items' popularities."
   ]
  },
  {
   "attachments": {},
   "cell_type": "markdown",
   "metadata": {},
   "source": [
    "Espresso appears to not be a popular product at either store. This insight is useful as the business can limit expenses by downsizing or eliminating their esspresso production to limit a business expense which doesn't lead to much revenue."
   ]
  },
  {
   "attachments": {},
   "cell_type": "markdown",
   "metadata": {},
   "source": [
    "Lattes appear to only sell at King St, and teas at queen st. This is also a valuable insight as the business can limit production and equiment for teas at king st. and lattes at queen st to reduce business expenses which don't convert into sales. However, before moving on this, more information is required. How many clients shop at both stores? If it is many, this inconsistency between the stores may not be worth it as they can come to expect a consistancy in the businesses brand. Let's examine below:"
   ]
  },
  {
   "cell_type": "code",
   "execution_count": 52,
   "metadata": {},
   "outputs": [
    {
     "data": {
      "image/png": "[encoded data removed]",
      "text/plain": [
       "<Figure size 640x480 with 1 Axes>"
      ]
     },
     "metadata": {},
     "output_type": "display_data"
    }
   ],
   "source": [
    "visualize_client_distribution()"
   ]
  },
  {
   "attachments": {},
   "cell_type": "markdown",
   "metadata": {},
   "source": [
    "It appears that the vast majority of clients do not shop at both stores. Therefore, the idea of limiting teas at king st. and lattes at queen st to reduce expenses is worth exploring further."
   ]
  },
  {
   "attachments": {},
   "cell_type": "markdown",
   "metadata": {},
   "source": [
    "**Client Retention**"
   ]
  },
  {
   "attachments": {},
   "cell_type": "markdown",
   "metadata": {},
   "source": [
    "Let's analyze the amount of repeat business the company experiences."
   ]
  },
  {
   "cell_type": "code",
   "execution_count": 53,
   "metadata": {},
   "outputs": [
    {
     "data": {
      "image/png": "[encoded data removed]",
      "text/plain": [
       "<Figure size 640x480 with 1 Axes>"
      ]
     },
     "metadata": {},
     "output_type": "display_data"
    }
   ],
   "source": [
    "visualize_retention()"
   ]
  },
  {
   "attachments": {},
   "cell_type": "markdown",
   "metadata": {},
   "source": [
    "About 1/3 of clients made multiple purchases. This leaves much room for increasing the companies client retention, as 2/3 customers left without being impressed/incetivized enough to come back. Retention is important as it turns 1 sale into a steady, reliable stream of future sales and revenue, especially in a business like coffee/tea which can be a daily habit. The company could increase retention by ensuring high quality products, customer service, and a customer loyalty/rewards program."
   ]
  }
 ],
 "metadata": {
  "kernelspec": {
   "display_name": "base",
   "language": "python",
   "name": "python3"
  },
  "language_info": {
   "codemirror_mode": {
    "name": "ipython",
    "version": 3
   },
   "file_extension": ".py",
   "mimetype": "text/x-python",
   "name": "python",
   "nbconvert_exporter": "python",
   "pygments_lexer": "ipython3",
   "version": "3.9.13"
  },
  "orig_nbformat": 4,
  "vscode": {
   "interpreter": {
    "hash": "da188d7b9d1aa9cfd378563b502472cb5d6ea3b179dec0cdc5ddcdca29f55b11"
   }
  }
 },
 "nbformat": 4,
 "nbformat_minor": 2
}
